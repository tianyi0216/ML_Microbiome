{
 "cells": [
  {
   "cell_type": "code",
   "execution_count": 1,
   "metadata": {},
   "outputs": [],
   "source": [
    "import pandas as pd\n",
    "import json\n",
    "import requests\n",
    "import os\n",
    "from tqdm import tqdm"
   ]
  },
  {
   "cell_type": "code",
   "execution_count": 2,
   "metadata": {},
   "outputs": [],
   "source": [
    "load_info_path = 'filereport_read_run_PRJEB51982_json.txt'\n",
    "\n",
    "with open(load_info_path) as f:\n",
    "    data = json.load(f)\n",
    "\n",
    "data_dir = 'data'"
   ]
  },
  {
   "cell_type": "code",
   "execution_count": 3,
   "metadata": {},
   "outputs": [],
   "source": [
    "# load done link\n",
    "done_link = set()\n",
    "\n",
    "if os.path.exists('done_link.txt'):\n",
    "    with open('done_link.txt') as f:\n",
    "        for line in f:\n",
    "            done_link.add(line.strip())"
   ]
  },
  {
   "cell_type": "code",
   "execution_count": 4,
   "metadata": {},
   "outputs": [],
   "source": [
    "def download_fastq(ftp_link, dest_folder):\n",
    "    \"\"\"Download FASTQ files from the given FTP link to the specified destination folder.\"\"\"\n",
    "    # Convert FTP to HTTP for ENA's server\n",
    "    http_url = \"http://\" + ftp_link\n",
    "    filename = http_url.split(\"/\")[-1]\n",
    "    dest_path = os.path.join(dest_folder, filename)\n",
    "    \n",
    "    response = requests.get(http_url, stream=True)\n",
    "    with open(dest_path, 'wb') as f:\n",
    "        for chunk in response.iter_content(chunk_size=8192):\n",
    "            f.write(chunk)"
   ]
  },
  {
   "cell_type": "code",
   "execution_count": 5,
   "metadata": {},
   "outputs": [
    {
     "data": {
      "text/plain": [
       "0"
      ]
     },
     "execution_count": 5,
     "metadata": {},
     "output_type": "execute_result"
    }
   ],
   "source": [
    "len(done_link)"
   ]
  },
  {
   "cell_type": "code",
   "execution_count": 6,
   "metadata": {},
   "outputs": [
    {
     "name": "stderr",
     "output_type": "stream",
     "text": [
      "Downloading FASTQ files:   0%|          | 0/50 [00:00<?, ?it/s]"
     ]
    },
    {
     "name": "stderr",
     "output_type": "stream",
     "text": [
      "Downloading FASTQ files: 100%|██████████| 50/50 [56:06<00:00, 67.34s/it] \n"
     ]
    }
   ],
   "source": [
    "for record in tqdm(data, desc=\"Downloading FASTQ files\"):\n",
    "    sample_id = record['sample_accession']\n",
    "    fastq_links = record['fastq_ftp'].split(\";\")\n",
    "    \n",
    "    # Create a directory for the sample if it doesn't exist\n",
    "    sample_dir = os.path.join(data_dir, sample_id)\n",
    "    if not os.path.exists(sample_dir):\n",
    "        os.mkdir(sample_dir)\n",
    "\n",
    "    # Download each FASTQ file to the sample's directory\n",
    "    for link in fastq_links:\n",
    "        if link in done_link:\n",
    "            continue\n",
    "\n",
    "        download_fastq(link, sample_dir)\n",
    "        done_link.add(link)"
   ]
  },
  {
   "cell_type": "code",
   "execution_count": 8,
   "metadata": {},
   "outputs": [],
   "source": [
    "# save done link\n",
    "with open('done_link.txt', 'w') as f:\n",
    "    for item in done_link:\n",
    "        f.write(\"%s\\n\" % item)"
   ]
  },
  {
   "cell_type": "code",
   "execution_count": null,
   "metadata": {},
   "outputs": [],
   "source": []
  }
 ],
 "metadata": {
  "kernelspec": {
   "display_name": "base",
   "language": "python",
   "name": "python3"
  },
  "language_info": {
   "codemirror_mode": {
    "name": "ipython",
    "version": 3
   },
   "file_extension": ".py",
   "mimetype": "text/x-python",
   "name": "python",
   "nbconvert_exporter": "python",
   "pygments_lexer": "ipython3",
   "version": "3.11.4"
  },
  "orig_nbformat": 4
 },
 "nbformat": 4,
 "nbformat_minor": 2
}
