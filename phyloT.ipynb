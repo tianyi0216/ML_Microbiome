{
 "cells": [
  {
   "cell_type": "code",
   "execution_count": 1,
   "metadata": {},
   "outputs": [],
   "source": [
    "# imports\n",
    "import pandas as pd"
   ]
  },
  {
   "cell_type": "code",
   "execution_count": 27,
   "metadata": {},
   "outputs": [],
   "source": [
    "df = pd.read_csv('PhyloData - Sheet1.csv')"
   ]
  },
  {
   "cell_type": "code",
   "execution_count": 28,
   "metadata": {},
   "outputs": [],
   "source": [
    "# drop na\n",
    "df = df.dropna()"
   ]
  },
  {
   "cell_type": "code",
   "execution_count": 29,
   "metadata": {},
   "outputs": [],
   "source": [
    "# change ncbi code to string type\n",
    "df['ncbi_code'] = df['NCBI Code'].astype(str)"
   ]
  },
  {
   "cell_type": "code",
   "execution_count": 30,
   "metadata": {},
   "outputs": [],
   "source": [
    "df['ncbi_code'] = df['ncbi_code'].str.replace('.0', '')"
   ]
  },
  {
   "cell_type": "code",
   "execution_count": 31,
   "metadata": {},
   "outputs": [
    {
     "data": {
      "text/plain": [
       "'57723,201174,67819,910028,200643,204428,200795,183924,1117,1752716,1297,95901,743725,641853,1802339,28890,2109258,1783270,1239,2763,142182,1239,142187,134625,74015,192989,6231,40117,67812,1618338,203682,1224,1752708,203691,544448,651137,74201,1379697'"
      ]
     },
     "execution_count": 31,
     "metadata": {},
     "output_type": "execute_result"
    }
   ],
   "source": [
    "# get a string with all ncbi column values separated by commas, remove NA\n",
    "ncbi = ','.join(df['ncbi_code'].dropna())\n",
    "ncbi"
   ]
  },
  {
   "cell_type": "code",
   "execution_count": 32,
   "metadata": {},
   "outputs": [],
   "source": [
    "# write ncbi to a file\n",
    "with open('ncbi.txt', 'w') as f:\n",
    "    f.write(ncbi)"
   ]
  },
  {
   "cell_type": "code",
   "execution_count": 2,
   "metadata": {},
   "outputs": [],
   "source": [
    "# read tmp.txt, sort each line, write to tmp.txt\n",
    "lines = []\n",
    "\n",
    "with open('temp.txt', 'r') as f:\n",
    "    lines = f.readlines()\n",
    "\n",
    "lines.sort()\n",
    "\n",
    "with open('temp.txt', 'w') as f:\n",
    "    f.writelines(lines)\n"
   ]
  },
  {
   "cell_type": "code",
   "execution_count": null,
   "metadata": {},
   "outputs": [],
   "source": []
  }
 ],
 "metadata": {
  "kernelspec": {
   "display_name": "base",
   "language": "python",
   "name": "python3"
  },
  "language_info": {
   "codemirror_mode": {
    "name": "ipython",
    "version": 3
   },
   "file_extension": ".py",
   "mimetype": "text/x-python",
   "name": "python",
   "nbconvert_exporter": "python",
   "pygments_lexer": "ipython3",
   "version": "3.11.5"
  }
 },
 "nbformat": 4,
 "nbformat_minor": 2
}
